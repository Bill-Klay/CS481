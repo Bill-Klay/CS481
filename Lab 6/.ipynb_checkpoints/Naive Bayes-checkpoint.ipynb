{
 "cells": [
  {
   "cell_type": "markdown",
   "metadata": {},
   "source": [
    "## Reading data"
   ]
  },
  {
   "cell_type": "code",
   "execution_count": 1,
   "metadata": {},
   "outputs": [],
   "source": [
    "import pandas as pd\n",
    "import numpy as np"
   ]
  },
  {
   "cell_type": "code",
   "execution_count": 2,
   "metadata": {},
   "outputs": [],
   "source": [
    "df = pd.read_csv('data 6.csv')"
   ]
  },
  {
   "cell_type": "code",
   "execution_count": 3,
   "metadata": {},
   "outputs": [
    {
     "data": {
      "text/html": [
       "<div>\n",
       "<style scoped>\n",
       "    .dataframe tbody tr th:only-of-type {\n",
       "        vertical-align: middle;\n",
       "    }\n",
       "\n",
       "    .dataframe tbody tr th {\n",
       "        vertical-align: top;\n",
       "    }\n",
       "\n",
       "    .dataframe thead th {\n",
       "        text-align: right;\n",
       "    }\n",
       "</style>\n",
       "<table border=\"1\" class=\"dataframe\">\n",
       "  <thead>\n",
       "    <tr style=\"text-align: right;\">\n",
       "      <th></th>\n",
       "      <th>Refund</th>\n",
       "      <th>Marital_Status</th>\n",
       "      <th>Taxable_Income</th>\n",
       "      <th>Evade</th>\n",
       "    </tr>\n",
       "  </thead>\n",
       "  <tbody>\n",
       "    <tr>\n",
       "      <td>0</td>\n",
       "      <td>Yes</td>\n",
       "      <td>Single</td>\n",
       "      <td>125000</td>\n",
       "      <td>No</td>\n",
       "    </tr>\n",
       "    <tr>\n",
       "      <td>1</td>\n",
       "      <td>No</td>\n",
       "      <td>Married</td>\n",
       "      <td>100000</td>\n",
       "      <td>No</td>\n",
       "    </tr>\n",
       "    <tr>\n",
       "      <td>2</td>\n",
       "      <td>No</td>\n",
       "      <td>Single</td>\n",
       "      <td>70000</td>\n",
       "      <td>No</td>\n",
       "    </tr>\n",
       "    <tr>\n",
       "      <td>3</td>\n",
       "      <td>Yes</td>\n",
       "      <td>Married</td>\n",
       "      <td>120000</td>\n",
       "      <td>No</td>\n",
       "    </tr>\n",
       "    <tr>\n",
       "      <td>4</td>\n",
       "      <td>No</td>\n",
       "      <td>Divorced</td>\n",
       "      <td>95000</td>\n",
       "      <td>Yes</td>\n",
       "    </tr>\n",
       "    <tr>\n",
       "      <td>5</td>\n",
       "      <td>No</td>\n",
       "      <td>Married</td>\n",
       "      <td>60000</td>\n",
       "      <td>No</td>\n",
       "    </tr>\n",
       "    <tr>\n",
       "      <td>6</td>\n",
       "      <td>Yes</td>\n",
       "      <td>Divorced</td>\n",
       "      <td>220000</td>\n",
       "      <td>No</td>\n",
       "    </tr>\n",
       "    <tr>\n",
       "      <td>7</td>\n",
       "      <td>No</td>\n",
       "      <td>Single</td>\n",
       "      <td>85000</td>\n",
       "      <td>Yes</td>\n",
       "    </tr>\n",
       "    <tr>\n",
       "      <td>8</td>\n",
       "      <td>No</td>\n",
       "      <td>Married</td>\n",
       "      <td>75000</td>\n",
       "      <td>No</td>\n",
       "    </tr>\n",
       "    <tr>\n",
       "      <td>9</td>\n",
       "      <td>No</td>\n",
       "      <td>Single</td>\n",
       "      <td>90000</td>\n",
       "      <td>Yes</td>\n",
       "    </tr>\n",
       "  </tbody>\n",
       "</table>\n",
       "</div>"
      ],
      "text/plain": [
       "  Refund Marital_Status  Taxable_Income Evade\n",
       "0    Yes         Single          125000    No\n",
       "1     No        Married          100000    No\n",
       "2     No         Single           70000    No\n",
       "3    Yes        Married          120000    No\n",
       "4     No       Divorced           95000   Yes\n",
       "5     No        Married           60000    No\n",
       "6    Yes       Divorced          220000    No\n",
       "7     No         Single           85000   Yes\n",
       "8     No        Married           75000    No\n",
       "9     No         Single           90000   Yes"
      ]
     },
     "execution_count": 3,
     "metadata": {},
     "output_type": "execute_result"
    }
   ],
   "source": [
    "df"
   ]
  },
  {
   "cell_type": "markdown",
   "metadata": {},
   "source": [
    "## Function definitions for probability and normalization"
   ]
  },
  {
   "cell_type": "code",
   "execution_count": 4,
   "metadata": {},
   "outputs": [],
   "source": [
    "def p_x_given_y(x, mean_y, variance_y): # normalize function\n",
    "    \n",
    "    p = 1/(np.sqrt(2*np.pi*variance_y)) * np.exp((-(x-mean_y)**2)/(2*variance_y))\n",
    "    return p\n",
    "\n",
    "def probability(column, status, evade, total_num): # single feature probability function\n",
    "    \n",
    "    condition1 = df[column] == status\n",
    "    condition2 = df['Evade'] == evade\n",
    "    result = condition1 & condition2\n",
    "    return round((len(result[result==True])/total_num),3)"
   ]
  },
  {
   "cell_type": "markdown",
   "metadata": {},
   "source": [
    "## Forecast column analysis"
   ]
  },
  {
   "cell_type": "code",
   "execution_count": 5,
   "metadata": {},
   "outputs": [],
   "source": [
    "total_no = df['Evade'][df['Evade']=='No'].count()\n",
    "total_yes = df['Evade'][df['Evade']=='Yes'].count()\n",
    "total = df['Evade'].count()\n",
    "probYes = total_yes/total\n",
    "probNo = total_no/total"
   ]
  },
  {
   "cell_type": "code",
   "execution_count": 6,
   "metadata": {},
   "outputs": [
    {
     "name": "stdout",
     "output_type": "stream",
     "text": [
      "Total Evade:  10\n",
      "out of which  3  are Yes\n",
      "and  7  are No\n",
      "Probability Yes:  0.3\n",
      "Probability No:  0.7\n"
     ]
    }
   ],
   "source": [
    "print(\"Total Evade: \", total)\n",
    "print(\"out of which \", total_yes, \" are Yes\")\n",
    "print(\"and \", total_no, \" are No\")\n",
    "print(\"Probability Yes: \", probYes)\n",
    "print(\"Probability No: \", probNo)"
   ]
  },
  {
   "cell_type": "markdown",
   "metadata": {},
   "source": [
    "## Individual features probability"
   ]
  },
  {
   "cell_type": "markdown",
   "metadata": {},
   "source": [
    "### Refund"
   ]
  },
  {
   "cell_type": "code",
   "execution_count": 7,
   "metadata": {},
   "outputs": [
    {
     "data": {
      "text/plain": [
       "0.429"
      ]
     },
     "execution_count": 7,
     "metadata": {},
     "output_type": "execute_result"
    }
   ],
   "source": [
    "probability(\"Refund\", \"Yes\", \"No\", total_no) # p(Refund=Yes | Evade=No)"
   ]
  },
  {
   "cell_type": "code",
   "execution_count": 8,
   "metadata": {},
   "outputs": [
    {
     "data": {
      "text/plain": [
       "0.0"
      ]
     },
     "execution_count": 8,
     "metadata": {},
     "output_type": "execute_result"
    }
   ],
   "source": [
    "probability(\"Refund\", \"Yes\", \"Yes\", total_yes) # p(Refund=Yes | Evade=Yes)"
   ]
  },
  {
   "cell_type": "code",
   "execution_count": 9,
   "metadata": {},
   "outputs": [
    {
     "data": {
      "text/plain": [
       "0.571"
      ]
     },
     "execution_count": 9,
     "metadata": {},
     "output_type": "execute_result"
    }
   ],
   "source": [
    "probability(\"Refund\", \"No\", \"No\", total_no) # p(Refund=No | Evade=No)"
   ]
  },
  {
   "cell_type": "code",
   "execution_count": 10,
   "metadata": {},
   "outputs": [
    {
     "data": {
      "text/plain": [
       "1.0"
      ]
     },
     "execution_count": 10,
     "metadata": {},
     "output_type": "execute_result"
    }
   ],
   "source": [
    "probability(\"Refund\", \"No\", \"Yes\", total_yes) # p(Refund=No | Evade=Yes)"
   ]
  },
  {
   "cell_type": "markdown",
   "metadata": {},
   "source": [
    "### Marital Status"
   ]
  },
  {
   "cell_type": "code",
   "execution_count": 11,
   "metadata": {},
   "outputs": [
    {
     "data": {
      "text/plain": [
       "0.667"
      ]
     },
     "execution_count": 11,
     "metadata": {},
     "output_type": "execute_result"
    }
   ],
   "source": [
    "probability(\"Marital_Status\", \"Single\", \"Yes\", total_yes) # p(Marital Status=Single | Evade=Yes)"
   ]
  },
  {
   "cell_type": "code",
   "execution_count": 12,
   "metadata": {},
   "outputs": [
    {
     "data": {
      "text/plain": [
       "0.286"
      ]
     },
     "execution_count": 12,
     "metadata": {},
     "output_type": "execute_result"
    }
   ],
   "source": [
    "probability(\"Marital_Status\", \"Single\", \"No\", total_no) # p(Marital Status=Single | Evade=No)"
   ]
  },
  {
   "cell_type": "code",
   "execution_count": 13,
   "metadata": {},
   "outputs": [
    {
     "data": {
      "text/plain": [
       "0.0"
      ]
     },
     "execution_count": 13,
     "metadata": {},
     "output_type": "execute_result"
    }
   ],
   "source": [
    "probability(\"Marital_Status\", \"Married\", \"Yes\", total_yes) # p(Marital Status=Married | Evade=Yes)"
   ]
  },
  {
   "cell_type": "code",
   "execution_count": 14,
   "metadata": {},
   "outputs": [
    {
     "data": {
      "text/plain": [
       "0.571"
      ]
     },
     "execution_count": 14,
     "metadata": {},
     "output_type": "execute_result"
    }
   ],
   "source": [
    "probability(\"Marital_Status\", \"Married\", \"No\", total_no) # p(Marital Status=Married | Evade=No)"
   ]
  },
  {
   "cell_type": "code",
   "execution_count": 15,
   "metadata": {},
   "outputs": [
    {
     "data": {
      "text/plain": [
       "0.333"
      ]
     },
     "execution_count": 15,
     "metadata": {},
     "output_type": "execute_result"
    }
   ],
   "source": [
    "probability(\"Marital_Status\", \"Divorced\", \"Yes\", total_yes) # p(Marital Status=Divorced | Evade=Yes)"
   ]
  },
  {
   "cell_type": "code",
   "execution_count": 16,
   "metadata": {},
   "outputs": [
    {
     "data": {
      "text/plain": [
       "0.143"
      ]
     },
     "execution_count": 16,
     "metadata": {},
     "output_type": "execute_result"
    }
   ],
   "source": [
    "probability(\"Marital_Status\", \"Divorced\", \"No\", total_no) # p(Marital Status=Single | Evade=No)"
   ]
  },
  {
   "cell_type": "markdown",
   "metadata": {},
   "source": [
    "### Taxable Income"
   ]
  },
  {
   "cell_type": "code",
   "execution_count": 17,
   "metadata": {},
   "outputs": [
    {
     "data": {
      "text/html": [
       "<div>\n",
       "<style scoped>\n",
       "    .dataframe tbody tr th:only-of-type {\n",
       "        vertical-align: middle;\n",
       "    }\n",
       "\n",
       "    .dataframe tbody tr th {\n",
       "        vertical-align: top;\n",
       "    }\n",
       "\n",
       "    .dataframe thead th {\n",
       "        text-align: right;\n",
       "    }\n",
       "</style>\n",
       "<table border=\"1\" class=\"dataframe\">\n",
       "  <thead>\n",
       "    <tr style=\"text-align: right;\">\n",
       "      <th></th>\n",
       "      <th>Taxable_Income</th>\n",
       "    </tr>\n",
       "    <tr>\n",
       "      <th>Evade</th>\n",
       "      <th></th>\n",
       "    </tr>\n",
       "  </thead>\n",
       "  <tbody>\n",
       "    <tr>\n",
       "      <td>No</td>\n",
       "      <td>110000</td>\n",
       "    </tr>\n",
       "    <tr>\n",
       "      <td>Yes</td>\n",
       "      <td>90000</td>\n",
       "    </tr>\n",
       "  </tbody>\n",
       "</table>\n",
       "</div>"
      ],
      "text/plain": [
       "       Taxable_Income\n",
       "Evade                \n",
       "No             110000\n",
       "Yes             90000"
      ]
     },
     "execution_count": 17,
     "metadata": {},
     "output_type": "execute_result"
    }
   ],
   "source": [
    "data_means = df.groupby('Evade').mean() # Taxable income mean\n",
    "data_means"
   ]
  },
  {
   "cell_type": "code",
   "execution_count": 18,
   "metadata": {},
   "outputs": [
    {
     "data": {
      "text/html": [
       "<div>\n",
       "<style scoped>\n",
       "    .dataframe tbody tr th:only-of-type {\n",
       "        vertical-align: middle;\n",
       "    }\n",
       "\n",
       "    .dataframe tbody tr th {\n",
       "        vertical-align: top;\n",
       "    }\n",
       "\n",
       "    .dataframe thead th {\n",
       "        text-align: right;\n",
       "    }\n",
       "</style>\n",
       "<table border=\"1\" class=\"dataframe\">\n",
       "  <thead>\n",
       "    <tr style=\"text-align: right;\">\n",
       "      <th></th>\n",
       "      <th>Taxable_Income</th>\n",
       "    </tr>\n",
       "    <tr>\n",
       "      <th>Evade</th>\n",
       "      <th></th>\n",
       "    </tr>\n",
       "  </thead>\n",
       "  <tbody>\n",
       "    <tr>\n",
       "      <td>No</td>\n",
       "      <td>2975000000</td>\n",
       "    </tr>\n",
       "    <tr>\n",
       "      <td>Yes</td>\n",
       "      <td>25000000</td>\n",
       "    </tr>\n",
       "  </tbody>\n",
       "</table>\n",
       "</div>"
      ],
      "text/plain": [
       "       Taxable_Income\n",
       "Evade                \n",
       "No         2975000000\n",
       "Yes          25000000"
      ]
     },
     "execution_count": 18,
     "metadata": {},
     "output_type": "execute_result"
    }
   ],
   "source": [
    "data_variance = df.groupby('Evade').var() # Taxable income variance\n",
    "data_variance"
   ]
  },
  {
   "cell_type": "code",
   "execution_count": 19,
   "metadata": {},
   "outputs": [],
   "source": [
    "# Means for Taxable_Income | Evade\n",
    "tax_yes_mean = data_means['Taxable_Income'][data_variance.index == 'Yes'].values[0]\n",
    "tax_no_mean = data_means['Taxable_Income'][data_variance.index == 'No'].values[0]\n",
    "\n",
    "# Variance Taxable_Income | Evade\n",
    "tax_yes_variance = data_variance['Taxable_Income'][data_variance.index == 'Yes'].values[0]\n",
    "tax_no_variance = data_variance['Taxable_Income'][data_variance.index == 'No'].values[0]"
   ]
  },
  {
   "cell_type": "code",
   "execution_count": 20,
   "metadata": {},
   "outputs": [
    {
     "data": {
      "text/plain": [
       "1.826944081672919e-15"
      ]
     },
     "execution_count": 20,
     "metadata": {},
     "output_type": "execute_result"
    }
   ],
   "source": [
    "p_x_given_y(125000, data_means['Taxable_Income'][1], data_variance['Taxable_Income'][1]) # Income=125000 | Evade=Yes"
   ]
  },
  {
   "cell_type": "code",
   "execution_count": 21,
   "metadata": {},
   "outputs": [
    {
     "data": {
      "text/plain": [
       "7.042772831514902e-06"
      ]
     },
     "execution_count": 21,
     "metadata": {},
     "output_type": "execute_result"
    }
   ],
   "source": [
    "p_x_given_y(125000, data_means['Taxable_Income'][0], data_variance['Taxable_Income'][0]) #Income=125000 | Evade=No"
   ]
  },
  {
   "cell_type": "markdown",
   "metadata": {},
   "source": [
    "## Generic Program"
   ]
  },
  {
   "cell_type": "code",
   "execution_count": 22,
   "metadata": {},
   "outputs": [
    {
     "name": "stdout",
     "output_type": "stream",
     "text": [
      "Enter Value for Refund, Marital Status and Taxable Income respectively: \n",
      "Refund: Yes\n",
      "Marital_Status: Divorced\n",
      "Taxable_Income: 90000\n"
     ]
    }
   ],
   "source": [
    "print(\"Enter Value for Refund, Marital Status and Taxable Income respectively: \")\n",
    "refund = input(\"Refund: \")\n",
    "marital_status = input(\"Marital_Status: \")\n",
    "taxable_income = input(\"Taxable_Income: \")\n",
    "# please note that this program does not take debuggin into account hence all\n",
    "# input is case and syntax sensitive."
   ]
  },
  {
   "cell_type": "markdown",
   "metadata": {},
   "source": [
    "### Test case 1"
   ]
  },
  {
   "cell_type": "code",
   "execution_count": 23,
   "metadata": {},
   "outputs": [
    {
     "name": "stdout",
     "output_type": "stream",
     "text": [
      "Hence Yes =  0.0\n",
      "and No =  4.195305995843191e-07\n",
      "Evade is No\n"
     ]
    }
   ],
   "source": [
    "# calculating prediction for Yes\n",
    "refund_prob = probability(\"Refund\", refund, \"Yes\", total_yes)\n",
    "marital_prob = probability(\"Marital_Status\", marital_status, \"Yes\", total_yes)\n",
    "tax_prob = p_x_given_y(int(taxable_income), data_means['Taxable_Income'][1], data_variance['Taxable_Income'][1])\n",
    "yes = refund_prob * marital_prob * tax_prob\n",
    "\n",
    "# calculating prediction for No\n",
    "refund_prob = probability(\"Refund\", refund, \"No\", total_no)\n",
    "marital_prob = probability(\"Marital_Status\", marital_status, \"No\", total_no)\n",
    "tax_prob = p_x_given_y(int(taxable_income), data_means['Taxable_Income'][0], data_variance['Taxable_Income'][0])\n",
    "no = refund_prob * marital_prob * tax_prob\n",
    "\n",
    "print(\"Hence Yes = \", yes)\n",
    "print(\"and No = \", no)\n",
    "\n",
    "# test case\n",
    "if(yes > no):\n",
    "    print('Evade is Yes')\n",
    "else:\n",
    "    print('Evade is No')"
   ]
  },
  {
   "cell_type": "code",
   "execution_count": 24,
   "metadata": {},
   "outputs": [
    {
     "name": "stdout",
     "output_type": "stream",
     "text": [
      "Enter Value for Refund, Marital Status and Taxable Income respectively: \n",
      "Refund: No\n",
      "Marital_Status: Married\n",
      "Taxable_Income: 60000\n"
     ]
    }
   ],
   "source": [
    "print(\"Enter Value for Refund, Marital Status and Taxable Income respectively: \")\n",
    "refund = input(\"Refund: \")\n",
    "marital_status = input(\"Marital_Status: \")\n",
    "taxable_income = input(\"Taxable_Income: \")\n",
    "# please note that this program does not take debuggin into account hence all\n",
    "# input is case and syntax sensitive."
   ]
  },
  {
   "cell_type": "markdown",
   "metadata": {},
   "source": [
    "### Test case 2"
   ]
  },
  {
   "cell_type": "code",
   "execution_count": 25,
   "metadata": {},
   "outputs": [
    {
     "name": "stdout",
     "output_type": "stream",
     "text": [
      "Hence Yes =  0.0\n",
      "and No =  1.5666144362188615e-06\n",
      "Evade is No\n"
     ]
    }
   ],
   "source": [
    "# calculating prediction for Yes\n",
    "refund_prob = probability(\"Refund\", refund, \"Yes\", total_yes)\n",
    "marital_prob = probability(\"Marital_Status\", marital_status, \"Yes\", total_yes)\n",
    "tax_prob = p_x_given_y(int(taxable_income), data_means['Taxable_Income'][1], data_variance['Taxable_Income'][1])\n",
    "yes = refund_prob * marital_prob * tax_prob\n",
    "\n",
    "# calculating prediction for No\n",
    "refund_prob = probability(\"Refund\", refund, \"No\", total_no)\n",
    "marital_prob = probability(\"Marital_Status\", marital_status, \"No\", total_no)\n",
    "tax_prob = p_x_given_y(int(taxable_income), data_means['Taxable_Income'][0], data_variance['Taxable_Income'][0])\n",
    "no = refund_prob * marital_prob * tax_prob\n",
    "\n",
    "print(\"Hence Yes = \", yes)\n",
    "print(\"and No = \", no)\n",
    "\n",
    "# test case\n",
    "if(yes > no):\n",
    "    print('Evade is Yes')\n",
    "else:\n",
    "    print('Evade is No')"
   ]
  }
 ],
 "metadata": {
  "kernelspec": {
   "display_name": "Python 3",
   "language": "python",
   "name": "python3"
  },
  "language_info": {
   "codemirror_mode": {
    "name": "ipython",
    "version": 3
   },
   "file_extension": ".py",
   "mimetype": "text/x-python",
   "name": "python",
   "nbconvert_exporter": "python",
   "pygments_lexer": "ipython3",
   "version": "3.7.6"
  }
 },
 "nbformat": 4,
 "nbformat_minor": 4
}
